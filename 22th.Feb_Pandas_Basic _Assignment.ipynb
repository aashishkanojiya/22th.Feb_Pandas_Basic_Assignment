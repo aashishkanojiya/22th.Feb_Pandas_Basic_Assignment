{
  "metadata": {
    "kernelspec": {
      "name": "python",
      "display_name": "Python (Pyodide)",
      "language": "python"
    },
    "language_info": {
      "codemirror_mode": {
        "name": "python",
        "version": 3
      },
      "file_extension": ".py",
      "mimetype": "text/x-python",
      "name": "python",
      "nbconvert_exporter": "python",
      "pygments_lexer": "ipython3",
      "version": "3.8"
    }
  },
  "nbformat_minor": 4,
  "nbformat": 4,
  "cells": [
    {
      "cell_type": "markdown",
      "source": "Q1. Create a Pandas Series that contains the following data: 4, 8, 15, 16, 23, and 42. Then, print the series.",
      "metadata": {}
    },
    {
      "cell_type": "code",
      "source": "import pandas as pd\nseries1 = pd.Series([4,8,15,16,23,42])\nprint(series1)",
      "metadata": {
        "trusted": true
      },
      "outputs": [
        {
          "name": "stdout",
          "text": "0     4\n1     8\n2    15\n3    16\n4    23\n5    42\ndtype: int64\n",
          "output_type": "stream"
        }
      ],
      "execution_count": 12
    },
    {
      "cell_type": "markdown",
      "source": "Q2. Create a variable of list type containing 10 elements in it, and apply pandas.Series function on the\nvariable print it.",
      "metadata": {}
    },
    {
      "cell_type": "code",
      "source": "import pandas as pd\n\n# Create a list with 10 elements\ndata_list = [1, 2, 3, 4, 5, 6, 7, 8, 9, 10]\n\n# Convert the list to a Pandas Series\nseries = pd.Series(data_list)\n\n# Print the Series\nprint(series)\n",
      "metadata": {
        "trusted": true
      },
      "outputs": [
        {
          "name": "stdout",
          "text": "0     1\n1     2\n2     3\n3     4\n4     5\n5     6\n6     7\n7     8\n8     9\n9    10\ndtype: int64\n",
          "output_type": "stream"
        }
      ],
      "execution_count": 3
    },
    {
      "cell_type": "markdown",
      "source": "Q3. Create a Pandas DataFrame that contains the following data:\n\nName       Age   Gender\nAlice       25   Female\nBob         30   Male\nClaire      27   Female\nThen, print the DataFrame.",
      "metadata": {}
    },
    {
      "cell_type": "code",
      "source": "import pandas as pd\n\n# Define the data\ndata = {\n    'Name': ['Alice', 'Bob', 'Claire'],\n    'Age': [25, 30, 27],\n    'Gender': ['Female', 'Male', 'Female']\n}\n\n# Create the DataFrame\ndf = pd.DataFrame(data)\n\n# Print the DataFrame\nprint(df)\n",
      "metadata": {
        "trusted": true
      },
      "outputs": [
        {
          "name": "stdout",
          "text": "     Name  Age  Gender\n0   Alice   25  Female\n1     Bob   30    Male\n2  Claire   27  Female\n",
          "output_type": "stream"
        }
      ],
      "execution_count": 4
    },
    {
      "cell_type": "markdown",
      "source": "Q4. What is ‘DataFrame’ in pandas and how is it different from pandas.series? Explain with an example.",
      "metadata": {}
    },
    {
      "cell_type": "markdown",
      "source": "Answer:-DataFrame in Pandas\nA DataFrame in Pandas is a two-dimensional, size-mutable, and heterogeneous tabular data structure with labeled axes (rows and columns). It is essentially a table similar to a spreadsheet or a SQL table. Each column in a DataFrame can be of different data types (e.g., integers, floats, strings).\n\nSeries in Pandas\nA Series in Pandas is a one-dimensional array-like object containing an array of data and an associated array of data labels, called its index. It is similar to a single column of a DataFrame.\n\nKey Differences\n1.Dimensionality:\nSeries: One-dimensional.\nDataFrame: Two-dimensional.\n2.Structure:\nSeries: Can be seen as a single column of data.\nDataFrame: A table with multiple columns and rows.\n3.Use Case:\nSeries: Ideal for handling a single column of data.\nDataFrame: Suitable for handling multiple columns and more complex data structures.\n\nExample:-",
      "metadata": {}
    },
    {
      "cell_type": "code",
      "source": "import pandas as pd\n\n# Creating a Series\ndata = [1, 2, 3, 4, 5]\nseries = pd.Series(data)\n\n# Print the Series\nprint(\"Series:\")\nprint(series)",
      "metadata": {
        "trusted": true
      },
      "outputs": [
        {
          "name": "stdout",
          "text": "Series:\n0    1\n1    2\n2    3\n3    4\n4    5\ndtype: int64\n",
          "output_type": "stream"
        }
      ],
      "execution_count": 6
    },
    {
      "cell_type": "code",
      "source": "# Creating a DataFrame\ndata = {\n    'Column1': [1, 2, 3, 4, 5],\n    'Column2': ['A', 'B', 'C', 'D', 'E']\n}\ndf = pd.DataFrame(data)\n\n# Print the DataFrame\nprint(\"\\nDataFrame:\")\nprint(df)",
      "metadata": {
        "trusted": true
      },
      "outputs": [
        {
          "name": "stdout",
          "text": "\nDataFrame:\n   Column1 Column2\n0        1       A\n1        2       B\n2        3       C\n3        4       D\n4        5       E\n",
          "output_type": "stream"
        }
      ],
      "execution_count": 7
    },
    {
      "cell_type": "markdown",
      "source": "Q5. What are some common functions you can use to manipulate data in a Pandas DataFrame? Can\nyou give an example of when you might use one of these functions?",
      "metadata": {}
    },
    {
      "cell_type": "markdown",
      "source": "Answer:-1.head() and tail():\nUse: Quickly view the first or last few rows of the DataFrame.\nExample: Use df.head(5) to view the first 5 rows of the DataFrame.\n2.info():\nUse: Get a concise summary of the DataFrame, including the index dtype and columns, non-null values, and memory usage.\nExample: Use df.info() to get an overview of the DataFrame's structure and data types.\n3.describe():\nUse: Generate descriptive statistics of the DataFrame, including mean, median, standard deviation, etc.\nExample: Use df.describe() to get a summary of the numerical columns.\n4.drop():\nUse: Remove rows or columns from the DataFrame.\nExample: Use df.drop('column_name', axis=1) to drop a column named 'column_name'.\n5.sort_values():\nUse: Sort the DataFrame by one or more columns.\nExample: Use df.sort_values(by='column_name') to sort the DataFrame by 'column_name'.\n6.groupby():\nUse: Group the DataFrame using a column or columns, often used with aggregation functions.\nExample: Use df.groupby('column_name').mean() to group by 'column_name' and compute the mean for each group.\n7.apply():\nUse: Apply a function along an axis of the DataFrame.\nExample: Use df['column_name'].apply(lambda x: x * 2) to double the values in 'column_name'.\n8.merge() and concat():\nUse: Combine two or more DataFrames.\nExample: Use pd.merge(df1, df2, on='key') to merge DataFrames df1 and df2 on the 'key' column.\n9.pivot_table():\nUse: Create a spreadsheet-style pivot table as a DataFrame.\nExample: Use df.pivot_table(values='value', index='index', columns='column') to pivot the DataFrame.\n10.isnull() and fillna():\nUse: Detect and handle missing values.\nExample: Use df['column_name'].fillna(0) to replace all NaN values in 'column_name' with 0.\n\nFor Example use case:-\nuse groupby() when analyzing sales data to find the total sales for each product category:",
      "metadata": {}
    },
    {
      "cell_type": "code",
      "source": "df = pd.DataFrame({\n    'Product': ['A', 'B', 'A', 'C'],\n    'Sales': [100, 150, 200, 50]\n})\ngrouped_sales = df.groupby('Product')['Sales'].sum()\nprint(grouped_sales)\n\n\n#This aggregates the sales data by Product, showing total sales per category.",
      "metadata": {
        "trusted": true
      },
      "outputs": [
        {
          "name": "stdout",
          "text": "Product\nA    300\nB    150\nC     50\nName: Sales, dtype: int64\n",
          "output_type": "stream"
        }
      ],
      "execution_count": 13
    },
    {
      "cell_type": "markdown",
      "source": "Q6. Which of the following is mutable in nature Series, DataFrame, Panel?",
      "metadata": {}
    },
    {
      "cell_type": "markdown",
      "source": "Answer:-In pandas, Series and DataFrame are mutable in nature.\n\nPanel is considered immutable.\n\nThat means, Series and DataFrame objects can be modified after they are created, and any changes made to them will be reflected in the original objects. On the other hand, Panel objects are generally not modified once created, and any changes made to them usually result in the creation of a new object.\n\nNote that while Series and DataFrame objects are mutable, it is generally recommended to avoid modifying them in place, as this can lead to unexpected results and errors. Instead, it is often better to create a new object with the desired modifications.",
      "metadata": {}
    },
    {
      "cell_type": "markdown",
      "source": "Q7. Create a DataFrame using multiple Series. Explain with an example.",
      "metadata": {}
    },
    {
      "cell_type": "raw",
      "source": "Answer:-create a DataFrame using multiple Series by combining them into columns. Each Series represents a column in the resulting DataFrame. Here's an example to demonstrate how to do this:\n\nExample:\nLet's create a DataFrame for student data using multiple Series:\n\nStep-by-Step Code:\nCreate individual Series representing different attributes.\nCombine the Series into a DataFrame.",
      "metadata": {}
    },
    {
      "cell_type": "code",
      "source": "import pandas as pd\n\n# Creating multiple Series\nnames = pd.Series(['Alice', 'Bob', 'Charlie'])\nages = pd.Series([25, 30, 27])\ngrades = pd.Series(['A', 'B', 'A'])\n\n# Creating a DataFrame using the Series\nstudent_df = pd.DataFrame({\n    'Name': names,\n    'Age': ages,\n    'Grade': grades\n})\n\n# Display the DataFrame\nprint(student_df)\n",
      "metadata": {
        "trusted": true
      },
      "outputs": [
        {
          "name": "stdout",
          "text": "      Name  Age Grade\n0    Alice   25     A\n1      Bob   30     B\n2  Charlie   27     A\n",
          "output_type": "stream"
        }
      ],
      "execution_count": 10
    },
    {
      "cell_type": "markdown",
      "source": "The Above Code Explanation:\nEach Series (names, ages, grades) represents a column in the DataFrame.\nThe DataFrame is created by combining the Series into a dictionary format, where keys represent column names ('Name', 'Age', 'Grade').\nPandas aligns the data by index, so each row contains data from corresponding positions across the Series.",
      "metadata": {}
    }
  ]
}